{
  "nbformat": 4,
  "nbformat_minor": 0,
  "metadata": {
    "colab": {
      "name": "KNN.ipynb",
      "provenance": [],
      "authorship_tag": "ABX9TyObgAnkhmHFpjtcYR1EStaz"
    },
    "kernelspec": {
      "name": "python3",
      "display_name": "Python 3"
    },
    "language_info": {
      "name": "python"
    }
  },
  "cells": [
    {
      "cell_type": "markdown",
      "source": [
        "## Implement with pure python code"
      ],
      "metadata": {
        "id": "rTZ6XgQci8No"
      }
    },
    {
      "cell_type": "code",
      "execution_count": 1,
      "metadata": {
        "id": "KaLGnzAhTgUS"
      },
      "outputs": [],
      "source": [
        "import math\n",
        "\n",
        "class KNN:\n",
        "  def __init__(self, k=3, dist_func=\"eucleadian\"):\n",
        "    self.k = k\n",
        "    self.dist_func = dist_func\n",
        "\n",
        "  def load(self, data):\n",
        "    self.data= data\n",
        "\n",
        "  def distance(self, x, y):\n",
        "    if self.dist_func == \"eucleadian\":\n",
        "      return self.get_distance(x, y)\n",
        "    else:\n",
        "      raise ValueError(\"distance function is not defined.\")\n",
        "\n",
        "  def get_distance(self, x, y):\n",
        "    s = 0\n",
        "    for i in range(len(x)):\n",
        "      s += (x[i] - y[i])**2\n",
        "    d = math.sqrt(s)\n",
        "    return d\n",
        "\n",
        "  def get_labels_k_neighbors(self, x):\n",
        "      #data_copy = deepcopy(self.data)\n",
        "      ranked = []\n",
        "      for idx, row in enumerate(self.data):\n",
        "        dist = self.distance(x, row[:-1])\n",
        "        ranked.append([dist, idx])\n",
        "      ranked.sort()\n",
        "      neighbors = ranked[:self.k]\n",
        "      classes = [self.data[i][-1] for d, i in neighbors]\n",
        "      return classes\n",
        "\n",
        "  #classification\n",
        "  def predict_class(self, x):\n",
        "    if self.data:\n",
        "      classes = self.get_labels_k_neighbors(x)\n",
        "      major_class = classes.count(1)\n",
        "      if major_class/self.k < 0.5:\n",
        "        pred_class = 0\n",
        "      else:\n",
        "        pred_class = 1\n",
        "      return pred_class\n",
        "    else:\n",
        "      return None\n",
        "\n",
        "  # regression\n",
        "  def predict_val(self, x):\n",
        "    if self.data:\n",
        "      classes = self.get_labels_k_neighbors(x)\n",
        "      return sum(classes)/self.k\n",
        "    else:\n",
        "      return None"
      ]
    },
    {
      "cell_type": "code",
      "source": [
        "data = [\n",
        "        [1,3,0],\n",
        "        [1,4,0],\n",
        "        [2,1,0],\n",
        "        [2,4,0],\n",
        "        [2,5,0],\n",
        "        [4,6,0],\n",
        "        [4,1,1],\n",
        "        [4,2,1],\n",
        "        [5,4,1],\n",
        "        [6,2,1],\n",
        "        [7,3,1],\n",
        "        [7,4,1],\n",
        "]"
      ],
      "metadata": {
        "id": "p3d-Jh2sW4Lb"
      },
      "execution_count": 2,
      "outputs": []
    },
    {
      "cell_type": "code",
      "source": [
        "import matplotlib.pyplot as plt"
      ],
      "metadata": {
        "id": "o0SzMRtWZNK1"
      },
      "execution_count": 3,
      "outputs": []
    },
    {
      "cell_type": "code",
      "source": [
        "x0 = [t[0] for t in data if t[2]==0]\n",
        "y0 = [t[1] for t in data if t[2]==0]\n",
        "x1 = [t[0] for t in data if t[2]==1]\n",
        "y1 = [t[1] for t in data if t[2]==1]\n",
        "plt.scatter(x0, y0, marker='v', color=\"red\")\n",
        "plt.scatter(x1, y1, marker='s',  color=\"blue\")\n",
        "plt.show()"
      ],
      "metadata": {
        "colab": {
          "base_uri": "https://localhost:8080/",
          "height": 265
        },
        "id": "8OwZItgKneKe",
        "outputId": "19bc06ed-c834-4687-df42-a0bec7c7f7ac"
      },
      "execution_count": 4,
      "outputs": [
        {
          "output_type": "display_data",
          "data": {
            "image/png": "[encoded data removed]",
            "text/plain": [
              "<Figure size 432x288 with 1 Axes>"
            ]
          },
          "metadata": {
            "needs_background": "light"
          }
        }
      ]
    },
    {
      "cell_type": "code",
      "source": [
        "knn = KNN(4)"
      ],
      "metadata": {
        "id": "PJLE5tjWZjcU"
      },
      "execution_count": 5,
      "outputs": []
    },
    {
      "cell_type": "code",
      "source": [
        "knn.load(data)"
      ],
      "metadata": {
        "id": "47QK0iYhZoMP"
      },
      "execution_count": 6,
      "outputs": []
    },
    {
      "cell_type": "code",
      "source": [
        "test = [5,2]"
      ],
      "metadata": {
        "id": "GiEN5QKia7Pu"
      },
      "execution_count": 7,
      "outputs": []
    },
    {
      "cell_type": "code",
      "source": [
        "knn.predict_class(test)"
      ],
      "metadata": {
        "colab": {
          "base_uri": "https://localhost:8080/"
        },
        "id": "QfoKNjz3Zpz4",
        "outputId": "6d34cab1-b310-4a00-8e31-c2bf2a800fae"
      },
      "execution_count": 8,
      "outputs": [
        {
          "output_type": "execute_result",
          "data": {
            "text/plain": [
              "1"
            ]
          },
          "metadata": {},
          "execution_count": 8
        }
      ]
    },
    {
      "cell_type": "code",
      "source": [
        "test = [3.5,4]\n",
        "knn.predict_class(test)"
      ],
      "metadata": {
        "colab": {
          "base_uri": "https://localhost:8080/"
        },
        "id": "JPfV2Zz1ZsKz",
        "outputId": "661afa75-7e05-4b48-d777-538a7570df13"
      },
      "execution_count": 9,
      "outputs": [
        {
          "output_type": "execute_result",
          "data": {
            "text/plain": [
              "0"
            ]
          },
          "metadata": {},
          "execution_count": 9
        }
      ]
    },
    {
      "cell_type": "code",
      "source": [
        "# Test for regression"
      ],
      "metadata": {
        "id": "orutNV_1aD1h"
      },
      "execution_count": 10,
      "outputs": []
    },
    {
      "cell_type": "code",
      "source": [
        "data2 = [\n",
        "        [1,3,4],\n",
        "        [1,4,5],\n",
        "        [2,1,5],\n",
        "        [2,4,8],\n",
        "        [2,5,9],\n",
        "        [4,6,22],\n",
        "        [4,1,17],\n",
        "        [4,2,18],\n",
        "        [5,4,29],\n",
        "        [6,2,38],\n",
        "        [7,3,52],\n",
        "        [7,4,53],\n",
        "]"
      ],
      "metadata": {
        "id": "DZL3sDZZhtxg"
      },
      "execution_count": 11,
      "outputs": []
    },
    {
      "cell_type": "code",
      "source": [
        "knnr = KNN(2)\n",
        "knnr.load(data2)"
      ],
      "metadata": {
        "id": "mFduB1_viL15"
      },
      "execution_count": 12,
      "outputs": []
    },
    {
      "cell_type": "code",
      "source": [
        "tr1 = [3,1]\n",
        "knnr.predict_val(tr1)"
      ],
      "metadata": {
        "colab": {
          "base_uri": "https://localhost:8080/"
        },
        "id": "t8pH8bxdiQPX",
        "outputId": "19a87080-8e96-45c9-df76-0bfdb5e78139"
      },
      "execution_count": 13,
      "outputs": [
        {
          "output_type": "execute_result",
          "data": {
            "text/plain": [
              "11.0"
            ]
          },
          "metadata": {},
          "execution_count": 13
        }
      ]
    },
    {
      "cell_type": "code",
      "source": [
        "# test for scalability"
      ],
      "metadata": {
        "id": "sBKTLndOiWmi"
      },
      "execution_count": 14,
      "outputs": []
    },
    {
      "cell_type": "code",
      "source": [
        "data3 = [[i, j, 2*i*i+j] for i in range(1000) for j in range(1000)]"
      ],
      "metadata": {
        "id": "iQWOw429jZMH"
      },
      "execution_count": 15,
      "outputs": []
    },
    {
      "cell_type": "code",
      "source": [
        "knnr = KNN(4)\n",
        "knnr.load(data3)"
      ],
      "metadata": {
        "id": "1c6EgG5ZkNrz"
      },
      "execution_count": 16,
      "outputs": []
    },
    {
      "cell_type": "code",
      "source": [
        "tr2 = [30.1, 550]\n",
        "knnr.predict_val(tr2)"
      ],
      "metadata": {
        "colab": {
          "base_uri": "https://localhost:8080/"
        },
        "id": "T5IzS6dIkFJ5",
        "outputId": "2618d294-71c3-40e9-895e-81694a71c856"
      },
      "execution_count": 17,
      "outputs": [
        {
          "output_type": "execute_result",
          "data": {
            "text/plain": [
              "2380.5"
            ]
          },
          "metadata": {},
          "execution_count": 17
        }
      ]
    },
    {
      "cell_type": "markdown",
      "source": [
        "## Implement with Numpy"
      ],
      "metadata": {
        "id": "Ciq8TmQEjFs6"
      }
    },
    {
      "cell_type": "code",
      "source": [
        "import math\n",
        "import numpy as np\n",
        "\n",
        "class KNN2:\n",
        "  def __init__(self, k=3, dist_func=\"eucleadian\"):\n",
        "    self.k = k\n",
        "    self.dist_func = dist_func\n",
        "\n",
        "  def load(self, data):\n",
        "    if type(data) is list:\n",
        "      self.data= np.array(data)\n",
        "    elif type(data) is np.ndarray:\n",
        "      self.data = data\n",
        "    else:\n",
        "      raise ValueError(\"Not supported input type\")\n",
        "\n",
        "  def distance(self, x, y):\n",
        "    if self.dist_func == \"eucleadian\":\n",
        "      return self.get_distance(x, y)\n",
        "    else:\n",
        "      raise ValueError(\"distance function is not defined.\")\n",
        "\n",
        "  def get_distance(self, x, y):\n",
        "    s = 0\n",
        "    s = (x - y)**2\n",
        "    d = math.sqrt(sum(s))\n",
        "    return d\n",
        "\n",
        "  def get_labels_k_neighbors(self, x):\n",
        "      ranked = []\n",
        "      for idx, row in enumerate(self.data):\n",
        "        dist = self.distance(x, row[:-1])\n",
        "        ranked.append([dist, idx])\n",
        "      ranked.sort()\n",
        "      neighbors = ranked[:self.k]\n",
        "      classes = [self.data[i][-1] for d, i in neighbors]\n",
        "      return np.array(classes)\n",
        "\n",
        "  #classification\n",
        "  def predict_class(self, x):\n",
        "    if self.data:\n",
        "      classes = self.get_labels_k_neighbors(x)\n",
        "      major_class = len(classes[classes==1])\n",
        "      if major_class/self.k < 0.5:\n",
        "        pred_class = 0\n",
        "      else:\n",
        "        pred_class = 1\n",
        "      return pred_class\n",
        "    else:\n",
        "      return None\n",
        "\n",
        "  # regression\n",
        "  def predict_val(self, x):\n",
        "    if len(self.data) > 0:\n",
        "      classes = self.get_labels_k_neighbors(x)\n",
        "      return sum(classes)/self.k\n",
        "    else:\n",
        "      return None"
      ],
      "metadata": {
        "id": "j1UOmBhSjLB6"
      },
      "execution_count": 18,
      "outputs": []
    },
    {
      "cell_type": "code",
      "source": [
        "data2 = [\n",
        "        [1,3,4],\n",
        "        [1,4,5],\n",
        "        [2,1,5],\n",
        "        [2,4,8],\n",
        "        [2,5,9],\n",
        "        [4,6,22],\n",
        "        [4,1,17],\n",
        "        [4,2,18],\n",
        "        [5,4,29],\n",
        "        [6,2,38],\n",
        "        [7,3,52],\n",
        "        [7,4,53],\n",
        "]"
      ],
      "metadata": {
        "id": "2HexXpvY87-4"
      },
      "execution_count": 19,
      "outputs": []
    },
    {
      "cell_type": "code",
      "source": [
        "knn2 = KNN2(2)\n",
        "knn2.load(data2)"
      ],
      "metadata": {
        "id": "FWVadUuM8-jK"
      },
      "execution_count": 20,
      "outputs": []
    },
    {
      "cell_type": "code",
      "source": [
        "tt1 = [3, 1]\n",
        "knn2.predict_val(tt1)"
      ],
      "metadata": {
        "colab": {
          "base_uri": "https://localhost:8080/"
        },
        "id": "M3DwnLXW9GT9",
        "outputId": "e542f980-c2fd-4e84-b5b2-d2745a619b59"
      },
      "execution_count": 21,
      "outputs": [
        {
          "output_type": "execute_result",
          "data": {
            "text/plain": [
              "11.0"
            ]
          },
          "metadata": {},
          "execution_count": 21
        }
      ]
    }
  ]
}