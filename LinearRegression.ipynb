{
  "nbformat": 4,
  "nbformat_minor": 0,
  "metadata": {
    "colab": {
      "name": "LinearRegression.ipynb",
      "provenance": [],
      "collapsed_sections": [],
      "authorship_tag": "ABX9TyO2zGX1+LweylCGbWvl9V0N"
    },
    "kernelspec": {
      "name": "python3",
      "display_name": "Python 3"
    },
    "language_info": {
      "name": "python"
    }
  },
  "cells": [
    {
      "cell_type": "code",
      "execution_count": 1,
      "metadata": {
        "id": "DSg_gi7yU0ac"
      },
      "outputs": [],
      "source": [
        "import numpy as np"
      ]
    },
    {
      "cell_type": "code",
      "source": [
        "import matplotlib.pyplot as plt "
      ],
      "metadata": {
        "id": "qX-Fb91vY040"
      },
      "execution_count": 2,
      "outputs": []
    },
    {
      "cell_type": "code",
      "source": [
        "class LinearRegression:\n",
        "\n",
        "  def __init__(self, n_iter=1000, lr=0.001):\n",
        "    self.data = None\n",
        "    self.w = 0\n",
        "    self.b = 0\n",
        "    self.n_iter = n_iter\n",
        "    self.lr = lr\n",
        "\n",
        "  # def load(self, data):\n",
        "  #   self.data = data\n",
        "\n",
        "  def fit(self, X, y):\n",
        "    if type(X) is not np.ndarray:\n",
        "      raise ValueError(\"Invalid Input type. Use Numpy array.\")\n",
        "    n = len(X)\n",
        "    for _ in range(self.n_iter):\n",
        "      y_pred = self.predict(X)\n",
        "      diff = y_pred - y\n",
        "      gdw = np.sum(2*np.matmul(X.T, diff))/n\n",
        "      gdb = np.sum(2*diff)/n\n",
        "      self.w -= self.lr * gdw\n",
        "      self.b -= self.lr * gdb\n",
        "\n",
        "  def predict(self, X):\n",
        "    return self.w * X + self.b\n"
      ],
      "metadata": {
        "id": "9mARC-oxVA6X"
      },
      "execution_count": 3,
      "outputs": []
    },
    {
      "cell_type": "code",
      "source": [
        "# generate some artificial data\n",
        "data_x = np.random.randint(1, 50, 20)\n",
        "data_y = [4.5*x-23+np.random.choice([3,5,-1,-3,-5, -8, 8]) for x in data_x]"
      ],
      "metadata": {
        "id": "t0wQcW5aYf6P"
      },
      "execution_count": 4,
      "outputs": []
    },
    {
      "cell_type": "code",
      "source": [
        "plt.scatter(data_x, data_y)\n",
        "plt.show()"
      ],
      "metadata": {
        "colab": {
          "base_uri": "https://localhost:8080/",
          "height": 265
        },
        "id": "cF5WRDwVY_d7",
        "outputId": "46727793-52ba-47d2-e0bb-38385562af8e"
      },
      "execution_count": 5,
      "outputs": [
        {
          "output_type": "display_data",
          "data": {
            "image/png": "[encoded data removed]",
            "text/plain": [
              "<Figure size 432x288 with 1 Axes>"
            ]
          },
          "metadata": {
            "needs_background": "light"
          }
        }
      ]
    },
    {
      "cell_type": "code",
      "source": [
        "regressor = LinearRegression(n_iter=10000, lr=0.001)"
      ],
      "metadata": {
        "id": "tQm9JCbUZFKa"
      },
      "execution_count": 6,
      "outputs": []
    },
    {
      "cell_type": "code",
      "source": [
        "regressor.fit(data_x, data_y)"
      ],
      "metadata": {
        "id": "UDNt7bxfbEZ7"
      },
      "execution_count": 7,
      "outputs": []
    },
    {
      "cell_type": "code",
      "source": [
        "print(regressor.w)\n",
        "print(regressor.b)"
      ],
      "metadata": {
        "colab": {
          "base_uri": "https://localhost:8080/"
        },
        "id": "uFR-SvSvdX9m",
        "outputId": "b7afd67d-3d9e-47d1-c000-34a9f5cf7330"
      },
      "execution_count": 8,
      "outputs": [
        {
          "output_type": "stream",
          "name": "stdout",
          "text": [
            "4.557422761715021\n",
            "-23.489313517638177\n"
          ]
        }
      ]
    },
    {
      "cell_type": "code",
      "source": [
        "a=regressor.predict(np.array([10]))\n",
        "print(a)"
      ],
      "metadata": {
        "colab": {
          "base_uri": "https://localhost:8080/"
        },
        "id": "ZK7uz_Y5bRyR",
        "outputId": "aee0199c-c2ea-44ab-d873-165145dd6b12"
      },
      "execution_count": 9,
      "outputs": [
        {
          "output_type": "stream",
          "name": "stdout",
          "text": [
            "[22.0849141]\n"
          ]
        }
      ]
    },
    {
      "cell_type": "code",
      "source": [
        "s = np.array([0, 20, 50])\n",
        "d = s*regressor.w + regressor.b\n",
        "plt.scatter(data_x, data_y)\n",
        "plt.plot(s, d, color=\"red\")"
      ],
      "metadata": {
        "colab": {
          "base_uri": "https://localhost:8080/",
          "height": 282
        },
        "id": "NrPNmQzIbzMj",
        "outputId": "026cb71f-9d70-484f-d7ce-600671736da9"
      },
      "execution_count": 10,
      "outputs": [
        {
          "output_type": "execute_result",
          "data": {
            "text/plain": [
              "[<matplotlib.lines.Line2D at 0x7f773654a0d0>]"
            ]
          },
          "metadata": {},
          "execution_count": 10
        },
        {
          "output_type": "display_data",
          "data": {
            "image/png": "[encoded data removed]",
            "text/plain": [
              "<Figure size 432x288 with 1 Axes>"
            ]
          },
          "metadata": {
            "needs_background": "light"
          }
        }
      ]
    },
    {
      "cell_type": "code",
      "source": [
        ""
      ],
      "metadata": {
        "id": "xOp_PXytOcTD"
      },
      "execution_count": null,
      "outputs": []
    }
  ]
}